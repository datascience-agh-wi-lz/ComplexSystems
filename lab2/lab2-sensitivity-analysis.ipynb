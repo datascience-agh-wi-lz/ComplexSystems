{
 "cells": [
  {
   "cell_type": "markdown",
   "metadata": {},
   "source": [
    "# Sensitivity Analysis\n",
    "## Lukasz Zajac \n",
    "Proszę dokonać analizy czułości metodą Morrisa oraz Sobola.\n",
    "Porównać otrzymane wyniki dt parametrów modelu oraz wartości początkowych, Morrisa, S1, ST. \n",
    "Skomentować otrzymane wyniki.\n",
    "Parametry najmniej czułe ustawić na stałe wartości trochę inne niż w modelu bazowym.\n",
    "Porównać wyniki z modelem bazowym (zdefiniować taki model) dla różnej wartości parametrów o najwyższej czułości. Czy rzeczywiście tak od siebie odbiegają wyniki dla modelu base i tym ze zmienionymi parametrami o najaniższej czułości.\n",
    "Zebrać wnioski z wykonanych eksperymentów.\n",
    "Jak analiza czułości może być używana do interpretacji wyników symulacji."
   ]
  },
  {
   "cell_type": "markdown",
   "metadata": {},
   "source": []
  }
 ],
 "metadata": {
  "language_info": {
   "name": "python"
  }
 },
 "nbformat": 4,
 "nbformat_minor": 2
}
